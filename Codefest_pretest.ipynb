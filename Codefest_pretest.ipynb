{
 "cells": [
  {
   "cell_type": "code",
   "execution_count": 101,
   "metadata": {},
   "outputs": [],
   "source": [
    "import numpy as np\n",
    "import sklearn\n",
    "from sklearn.linear_model import LinearRegression\n",
    "import matplotlib.pyplot as plt\n",
    "import pandas as pd\n",
    "\n",
    "from sklearn.metrics import mean_squared_error"
   ]
  },
  {
   "cell_type": "code",
   "execution_count": 102,
   "metadata": {},
   "outputs": [],
   "source": [
    "df = pd.read_csv(\"test_scores.csv.xls\")\n"
   ]
  },
  {
   "cell_type": "code",
   "execution_count": 103,
   "metadata": {},
   "outputs": [],
   "source": [
    "\n",
    "X = df[\"pretest\"].values\n",
    "y = df[\"posttest\"].values\n",
    "\n"
   ]
  },
  {
   "cell_type": "code",
   "execution_count": 104,
   "metadata": {},
   "outputs": [
    {
     "data": {
      "text/plain": [
       "array([50., 59., 63., ..., 46., 60., 65.])"
      ]
     },
     "execution_count": 104,
     "metadata": {},
     "output_type": "execute_result"
    }
   ],
   "source": [
    "from sklearn.model_selection import train_test_split\n",
    "\n",
    "x_train, x_test, y_train, y_test = train_test_split(X, y, test_size=0.1, random_state=420)\n",
    "\n",
    "x_train"
   ]
  },
  {
   "cell_type": "code",
   "execution_count": 105,
   "metadata": {},
   "outputs": [],
   "source": [
    "model_linear = LinearRegression()\n",
    "\n",
    "model_linear.fit(x_train.reshape(-1, 1), y_train.reshape(-1, 1))\n",
    "\n",
    "y_pred_linear = model_linear.predict(x_test.reshape(-1, 1))"
   ]
  },
  {
   "cell_type": "code",
   "execution_count": 106,
   "metadata": {},
   "outputs": [
    {
     "name": "stdout",
     "output_type": "stream",
     "text": [
      "4.1011246955329135\n"
     ]
    }
   ],
   "source": [
    "from math import sqrt\n",
    "\n",
    "mse = mean_squared_error(y_test, y_pred_linear)\n",
    "\n",
    "rmse = sqrt(mse)\n",
    "\n",
    "print(rmse)"
   ]
  },
  {
   "cell_type": "code",
   "execution_count": 107,
   "metadata": {},
   "outputs": [
    {
     "name": "stdout",
     "output_type": "stream",
     "text": [
      "[0.93258651]\n",
      "[4.51675506]\n"
     ]
    },
    {
     "data": {
      "text/plain": [
       "[]"
      ]
     },
     "execution_count": 107,
     "metadata": {},
     "output_type": "execute_result"
    },
    {
     "data": {
      "image/png": "[encoded data removed]",
      "text/plain": [
       "<Figure size 432x288 with 1 Axes>"
      ]
     },
     "metadata": {
      "needs_background": "light"
     },
     "output_type": "display_data"
    }
   ],
   "source": [
    "m, b = np.polyfit(y_test, y_pred, 1)\n",
    "\n",
    "print(m)\n",
    "print(b)\n",
    "\n",
    "plt.scatter(y_test, y_pred_linear, c=\"blue\", label=\"Values\")\n",
    "plt.title(\"Predicted vs Test Values\")\n",
    "plt.xlabel(\"Test Valeus\")\n",
    "plt.ylabel(\"Predicted Values\")\n",
    "\n",
    "plt.plot()"
   ]
  },
  {
   "cell_type": "code",
   "execution_count": 109,
   "metadata": {},
   "outputs": [
    {
     "name": "stdout",
     "output_type": "stream",
     "text": [
      "[[80.88058335]]\n"
     ]
    }
   ],
   "source": [
    "prev_marks = int(input(\"Previous marks: \"))\n",
    "\n",
    "# prev_marks = np.array([prev_marks])\n",
    "# print(prev_marks)\n",
    "# std.fit(df.iloc[:, 9:10], df.iloc[:, :10])\n",
    "# prev_marks = std.transform(prev_marks.reshape(-1, 1))\n",
    "# prev_marks\n",
    "Y = model.predict([[prev_marks]])\n",
    "\n",
    "if Y > 100:\n",
    "    Y = 100\n",
    "\n",
    "print(Y)"
   ]
  }
 ],
 "metadata": {
  "interpreter": {
   "hash": "aee8b7b246df8f9039afb4144a1f6fd8d2ca17a180786b69acc140d282b71a49"
  },
  "kernelspec": {
   "display_name": "Python 3.9.5 64-bit",
   "name": "python3"
  },
  "language_info": {
   "codemirror_mode": {
    "name": "ipython",
    "version": 3
   },
   "file_extension": ".py",
   "mimetype": "text/x-python",
   "name": "python",
   "nbconvert_exporter": "python",
   "pygments_lexer": "ipython3",
   "version": "3.8.8"
  },
  "orig_nbformat": 4
 },
 "nbformat": 4,
 "nbformat_minor": 2
}